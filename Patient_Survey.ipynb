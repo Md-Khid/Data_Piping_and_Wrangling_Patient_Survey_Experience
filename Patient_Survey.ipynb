{
 "cells": [
  {
   "cell_type": "code",
   "execution_count": 1,
   "id": "044341db",
   "metadata": {},
   "outputs": [],
   "source": [
    "# Import necessary libraries\n",
    "import pandas as pd  # Library for data manipulation and analysis\n",
    "import sqlalchemy  # Library for interacting with SQL databases\n",
    "import os  # Library for interacting with the operating system\n",
    "import re  # Library for regular expressions\n",
    "from sqlalchemy import create_engine  # Function to create a connection to a SQL database\n"
   ]
  },
  {
   "cell_type": "code",
   "execution_count": 2,
   "id": "63508b3b",
   "metadata": {},
   "outputs": [],
   "source": [
    "db_config = {\n",
    "    \"user\": \"root\",\n",
    "    \"password\": \" \",\n",
    "    \"host\": \"localhost\",\n",
    "    \"port\": 3306,  # Default MySQL port\n",
    "    \"database\": \"survey\"\n",
    "}"
   ]
  },
  {
   "cell_type": "code",
   "execution_count": 3,
   "id": "f4abff41",
   "metadata": {},
   "outputs": [],
   "source": [
    "engine = create_engine(f\"mysql+mysqlconnector://{db_config['user']}:{db_config['password']}@{db_config['host']}:{db_config['port']}/{db_config['database']}\")\n"
   ]
  },
  {
   "cell_type": "code",
   "execution_count": 4,
   "id": "f311d0aa",
   "metadata": {},
   "outputs": [],
   "source": [
    "folder_path = 'survey/'\n"
   ]
  },
  {
   "cell_type": "code",
   "execution_count": 5,
   "id": "0c9e632c",
   "metadata": {},
   "outputs": [],
   "source": [
    "keywords = [\"inpatient\", \"warded\", \"ip\", \"inp\", \"in\"]\n"
   ]
  },
  {
   "cell_type": "code",
   "execution_count": 6,
   "id": "0e85eddb",
   "metadata": {},
   "outputs": [],
   "source": [
    "month_order = [\"Jan\", \"Feb\", \"Mar\", \"Apr\", \"May\", \"Jun\", \"Jul\", \"Aug\", \"Sep\", \"Oct\", \"Nov\", \"Dec\"]\n"
   ]
  },
  {
   "cell_type": "code",
   "execution_count": 7,
   "id": "7da42e26",
   "metadata": {},
   "outputs": [
    {
     "name": "stdout",
     "output_type": "stream",
     "text": [
      "Data from 'Apr.xlsx' has been successfully uploaded to the 'in04' table.\n",
      "Data from 'Aug.xlsx' has been successfully uploaded to the 'in08' table.\n",
      "Data from 'Dec.xlsx' has been successfully uploaded to the 'in12' table.\n",
      "Data from 'Feb.xlsx' has been successfully uploaded to the 'in02' table.\n",
      "Data from 'Jan.xlsx' has been successfully uploaded to the 'in01' table.\n",
      "Data from 'Jul.xlsx' has been successfully uploaded to the 'in07' table.\n",
      "Data from 'Jun.xlsx' has been successfully uploaded to the 'in06' table.\n",
      "Data from 'Mar.xlsx' has been successfully uploaded to the 'in03' table.\n",
      "Data from 'May.xlsx' has been successfully uploaded to the 'in05' table.\n",
      "Data from 'Nov.xlsx' has been successfully uploaded to the 'in11' table.\n",
      "Data from 'Oct.xlsx' has been successfully uploaded to the 'in10' table.\n",
      "Data from 'Sep.xlsx' has been successfully uploaded to the 'in09' table.\n",
      "All data frames have been uploaded to the MySQL database as tables in order.\n"
     ]
    }
   ],
   "source": [
    "for filename in os.listdir(folder_path):\n",
    "\n",
    "# It checks if the current file being iterated has the '.xlsx' file extension using \"filename.endswith('.xlsx')\" condition.\n",
    "    if filename.endswith('.xlsx'):\n",
    "\n",
    "# If the file has a valid Excel extension, it attempts to extract the month name from the filename using a regular expression (re.match).\n",
    "# This extraction is done to identify the relevant month for the data in the file.\n",
    "        month_match = re.match(r'([A-Za-z]+)\\.xlsx', filename)\n",
    "\n",
    "# If a month name is successfully extracted from the filename and it matches one of the months in the month_order list, the code proceeds to the next step.\n",
    "        if month_match:\n",
    "            month_name = month_match.group(1)\n",
    "            if month_name in month_order:\n",
    "          \n",
    "# The code reads the Excel file into a dictionary of data frames using Pandas (pd.read_excel).\n",
    "# Each sheet in the Excel file becomes a data frame within the dictionary.\n",
    "                excel_data = pd.read_excel(os.path.join(folder_path, filename), sheet_name=None)\n",
    "                \n",
    "# The code then iterates through each sheet and data frame in the dictionary.\n",
    "                for sheet_name, data_frame in excel_data.items():\n",
    "                    \n",
    "# For each sheet, it checks if any of the keywords in the \"keywords\" list can be found in the sheet name. The check is case-insensitive.\n",
    "                    if any(keyword in sheet_name.lower() for keyword in keywords):\n",
    "                        \n",
    "# If a keyword is found in the sheet name, it constructs a table name based on the month's position in the month_order list.\n",
    "# It uses this table name to store the data from the current sheet.\n",
    "                        table_name = f\"in{month_order.index(month_name) + 1:02d}\"\n",
    "                        \n",
    "# The data from the sheet is written to a MySQL database table using the \"to_sql\" method, and any existing table with the same name is replaced.\n",
    "                        data_frame.to_sql(table_name, con=engine, if_exists=\"replace\", index=False)\n",
    "       \n",
    "# A message is generated to confirm the successful upload of information from the current file to the corresponding table.\n",
    "                        print(f\"Data from '{filename}' has been successfully uploaded to the '{table_name}' table.\")\n",
    "\n",
    "# After processing all Excel files, a final message is generated to indicate that all data frames have been uploaded to the MySQL database as tables in order.\n",
    "print(\"All data frames have been uploaded to the MySQL database as tables in order.\")"
   ]
  },
  {
   "cell_type": "code",
   "execution_count": null,
   "id": "5b0248f1",
   "metadata": {},
   "outputs": [],
   "source": []
  }
 ],
 "metadata": {
  "kernelspec": {
   "display_name": "Python 3 (ipykernel)",
   "language": "python",
   "name": "python3"
  },
  "language_info": {
   "codemirror_mode": {
    "name": "ipython",
    "version": 3
   },
   "file_extension": ".py",
   "mimetype": "text/x-python",
   "name": "python",
   "nbconvert_exporter": "python",
   "pygments_lexer": "ipython3",
   "version": "3.11.5"
  }
 },
 "nbformat": 4,
 "nbformat_minor": 5
}
